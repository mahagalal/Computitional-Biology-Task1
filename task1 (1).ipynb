{
 "cells": [
  {
   "cell_type": "code",
   "execution_count": 4,
   "id": "b09f4b8f",
   "metadata": {},
   "outputs": [],
   "source": [
    "from pyopenms import *\n",
    "from pyopenms.Constants import *\n",
    "import pyopenms as SQ"
   ]
  },
  {
   "cell_type": "code",
   "execution_count": 5,
   "id": "c9ca2817",
   "metadata": {},
   "outputs": [
    {
     "name": "stdout",
     "output_type": "stream",
     "text": [
      "Sequence: VAKA\n",
      "Peptide VAKA has molecular formula C17H33N5O5\n"
     ]
    }
   ],
   "source": [
    "seq = SQ.AASequence.fromString(\"VAKA\")\n",
    "seq_Formula = seq.getFormula()\n",
    "print(\"Sequence:\", seq)\n",
    "print(\"Peptide\", seq, \"has molecular formula\", seq_Formula)"
   ]
  },
  {
   "cell_type": "code",
   "execution_count": 6,
   "id": "df795913",
   "metadata": {},
   "outputs": [
    {
     "name": "stdout",
     "output_type": "stream",
     "text": [
      "The peptide VAKA consists of the following amino acids:\n",
      "Valine : 117.0789793509\n",
      "Alanine : 89.0476792233\n",
      "Lysine : 146.1055284466\n",
      "Alanine : 89.0476792233\n"
     ]
    }
   ],
   "source": [
    "seq = SQ.AASequence.fromString(\"VAKA\")\n",
    "\n",
    "print(\"The peptide\", str(seq), \"consists of the following amino acids:\")\n",
    "for aa in seq:\n",
    "    print(aa.getName(), \":\", aa.getMonoWeight())"
   ]
  },
  {
   "cell_type": "code",
   "execution_count": 7,
   "id": "9898867d",
   "metadata": {},
   "outputs": [
    {
     "name": "stdout",
     "output_type": "stream",
     "text": [
      "Mass of VAKA is: 387.2481710527\n"
     ]
    }
   ],
   "source": [
    "seq=SQ.AASequence.fromString(\"VAKA\")\n",
    "\n",
    "total=seq.getMonoWeight()\n",
    "\n",
    "print(\"Mass of VAKA is:\",total)"
   ]
  },
  {
   "cell_type": "code",
   "execution_count": 8,
   "id": "9f751d6b",
   "metadata": {},
   "outputs": [
    {
     "name": "stdout",
     "output_type": "stream",
     "text": [
      "Mass(V)+Mass(A)+Mass(K)+Mass(A)= 441.27986624410005\n"
     ]
    }
   ],
   "source": [
    "a = AASequence.fromString(\"V\").getMonoWeight()\n",
    "b = AASequence.fromString(\"A\").getMonoWeight()\n",
    "c = AASequence.fromString(\"K\").getMonoWeight()\n",
    "d = AASequence.fromString(\"A\").getMonoWeight()\n",
    "\n",
    "print (\"Mass(V)+Mass(A)+Mass(K)+Mass(A)=\",a+b+c+d )"
   ]
  },
  {
   "cell_type": "code",
   "execution_count": 9,
   "id": "81a3177b",
   "metadata": {},
   "outputs": [],
   "source": [
    "#mass(\"VAKA\")≠mass(V)+mass(A)+mass(K)+mass(A)"
   ]
  },
  {
   "cell_type": "code",
   "execution_count": null,
   "id": "ae15bd11",
   "metadata": {},
   "outputs": [],
   "source": []
  },
  {
   "cell_type": "code",
   "execution_count": null,
   "id": "4d1ec08f",
   "metadata": {},
   "outputs": [],
   "source": []
  }
 ],
 "metadata": {
  "kernelspec": {
   "display_name": "Python 3 (ipykernel)",
   "language": "python",
   "name": "python3"
  },
  "language_info": {
   "codemirror_mode": {
    "name": "ipython",
    "version": 3
   },
   "file_extension": ".py",
   "mimetype": "text/x-python",
   "name": "python",
   "nbconvert_exporter": "python",
   "pygments_lexer": "ipython3",
   "version": "3.9.12"
  }
 },
 "nbformat": 4,
 "nbformat_minor": 5
}
